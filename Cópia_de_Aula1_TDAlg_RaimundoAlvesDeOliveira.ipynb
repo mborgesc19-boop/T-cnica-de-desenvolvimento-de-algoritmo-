{
  "cells": [
    {
      "cell_type": "markdown",
      "metadata": {
        "id": "view-in-github",
        "colab_type": "text"
      },
      "source": [
        "<a href=\"https://colab.research.google.com/github/mborgesc19-boop/T-cnica-de-desenvolvimento-de-algoritmo-/blob/main/C%C3%B3pia_de_Aula1_TDAlg_RaimundoAlvesDeOliveira.ipynb\" target=\"_parent\"><img src=\"https://colab.research.google.com/assets/colab-badge.svg\" alt=\"Open In Colab\"/></a>"
      ]
    },
    {
      "cell_type": "code",
      "execution_count": null,
      "metadata": {
        "id": "JUxwNK7bQ4hn"
      },
      "outputs": [],
      "source": []
    },
    {
      "cell_type": "markdown",
      "source": [],
      "metadata": {
        "id": "m9wjkoM_Gcg7"
      }
    },
    {
      "cell_type": "markdown",
      "source": [
        "***NOME***: Raimundo Alves De Oliveira\n",
        "***TURMA***: Sistema de Informação"
      ],
      "metadata": {
        "id": "r7GIBH6whb_Z"
      }
    },
    {
      "cell_type": "markdown",
      "source": [
        "![baixados.webp](data:image/webp;base64,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)"
      ],
      "metadata": {
        "id": "S_y9TE1lNhQ3"
      }
    },
    {
      "cell_type": "code",
      "execution_count": null,
      "metadata": {
        "colab": {
          "base_uri": "https://localhost:8080/"
        },
        "id": "WQ6Lvjj_RRbR",
        "outputId": "50cbd93d-e4a6-4f4a-ba05-5a45368dfe9c"
      },
      "outputs": [
        {
          "name": "stdout",
          "output_type": "stream",
          "text": [
            "Meu primeiro programa\n"
          ]
        }
      ],
      "source": [
        "print (\"Meu primeiro programa\")"
      ]
    },
    {
      "cell_type": "markdown",
      "source": [
        "### **LISTA DE EXERCICIOS 01**"
      ],
      "metadata": {
        "id": "oPFEYmLVeDHj"
      }
    },
    {
      "cell_type": "code",
      "execution_count": null,
      "metadata": {
        "colab": {
          "base_uri": "https://localhost:8080/"
        },
        "id": "PdJj6R3lafXU",
        "outputId": "a1eb7b18-cabe-4ccc-d8d3-227e0014097e"
      },
      "outputs": [
        {
          "name": "stdout",
          "output_type": "stream",
          "text": [
            "Meu primeiro programa\n"
          ]
        }
      ],
      "source": [
        "#1. Escreva um programa que apresente na tela a frase: \"Meu primeiro programa!!!\"\n",
        "\n",
        "print(\"Meu primeiro programa\")"
      ]
    },
    {
      "cell_type": "code",
      "execution_count": null,
      "metadata": {
        "colab": {
          "base_uri": "https://localhost:8080/"
        },
        "id": "yyTKCXlDenXa",
        "outputId": "313ceb4b-1a34-4917-af24-e559e267dcd8"
      },
      "outputs": [
        {
          "name": "stdout",
          "output_type": "stream",
          "text": [
            "Digite um numero:\n",
            "10\n"
          ]
        }
      ],
      "source": [
        "#2. Escreva um programa que solicite ao usuário um número inteiro e ao final apresente na tela\n",
        "#o número informado pelo usuário do programa\n",
        "\n",
        "print(\"Digite um numero:\")\n",
        "num = int(input())\n"
      ]
    },
    {
      "cell_type": "code",
      "execution_count": null,
      "metadata": {
        "colab": {
          "base_uri": "https://localhost:8080/"
        },
        "id": "12uZOmBKfWQm",
        "outputId": "f035f311-b1e7-4f43-f9d6-19fe20ef7e22"
      },
      "outputs": [
        {
          "name": "stdout",
          "output_type": "stream",
          "text": [
            "Digite um numero:\n",
            "40\n",
            "Foi informado o valor:40\n"
          ]
        }
      ],
      "source": [
        "#3. Escreva um programa que solicite ao usuário um número inteiro e ao final apresente na tela\n",
        "#o número informado da seguinte forma: \"Foi informado o valor: X\"\n",
        "\n",
        "print(\"Digite um numero:\")\n",
        "num = int(input())\n",
        "print(\"Foi informado o valor:\" + str(num))"
      ]
    },
    {
      "cell_type": "code",
      "execution_count": null,
      "metadata": {
        "colab": {
          "base_uri": "https://localhost:8080/"
        },
        "id": "wFHTApCCfxdh",
        "outputId": "def8f0e7-705a-4454-af53-ec965b2329db"
      },
      "outputs": [
        {
          "name": "stdout",
          "output_type": "stream",
          "text": [
            "Digite o numero X:\n",
            "10\n",
            "Digite o numero Y:\n",
            "4\n",
            "Voce informou os numeros 10 e 4\n"
          ]
        }
      ],
      "source": [
        "#4. Escreva um programa que solicite ao usuário dois números inteiros e ao final apresente na\n",
        "#tela os dois números informados da seguinte forma: \"Voce informou os numeros X e Y\n",
        "\n",
        "print(\"Digite o numero X:\")\n",
        "x = int(input())\n",
        "print(\"Digite o numero Y:\")\n",
        "y = int(input())\n",
        "print(\"Voce informou os numeros \" + str(x) + \" e \" + str(y))\n"
      ]
    },
    {
      "cell_type": "code",
      "execution_count": null,
      "metadata": {
        "colab": {
          "base_uri": "https://localhost:8080/"
        },
        "id": "EZz-YuHTSIy0",
        "outputId": "1566ef5c-cb97-46ce-d585-8560002768af"
      },
      "outputs": [
        {
          "name": "stdout",
          "output_type": "stream",
          "text": [
            "Digite um número\n",
            "4\n",
            "Você informou o número 4.33\n"
          ]
        }
      ],
      "source": [
        "#5. Escreva um programa que solicite ao usuário um número real e ao final apresente na tela o\n",
        "#número informado formatado com duas casas decimais da seguinte forma: \"Voce informou\n",
        "#o numero X.YY\"\n",
        "\n",
        "\n",
        "print(\"Digite um número\")\n",
        "x = float(input())\n",
        "x = x + 0.33\n",
        "print(\"Você informou o número \" + str(x))\n"
      ]
    },
    {
      "cell_type": "code",
      "execution_count": null,
      "metadata": {
        "colab": {
          "base_uri": "https://localhost:8080/"
        },
        "id": "hcVL8HGoG_QD",
        "outputId": "755efba9-fa09-4b11-a84a-3151b9a7ffb3"
      },
      "outputs": [
        {
          "name": "stdout",
          "output_type": "stream",
          "text": [
            "Digite a temperatura em graus Celsius: 30\n",
            "A temperatura em Fahrenheit é: 86.00°F\n"
          ]
        }
      ],
      "source": [
        "# 6. Escreva um programa que solicite ao usuário a temperatura em graus Celsius e ao final\n",
        "#apresente a temperatura correspondente em graus Farenheit. F = Celsius * 1.8 + 32\n",
        "\n",
        "celsius = float(input(\"Digite a temperatura em graus Celsius: \"))\n",
        "fahrenheit = celsius * 1.8 + 32\n",
        "\n",
        "# Exibe o resultado\n",
        "print(f\"A temperatura em Fahrenheit é: {fahrenheit:.2f}°F\")"
      ]
    },
    {
      "cell_type": "code",
      "execution_count": null,
      "metadata": {
        "colab": {
          "base_uri": "https://localhost:8080/"
        },
        "id": "jzIo7BpxHXHK",
        "outputId": "afdc1500-d738-48b8-b26d-2212f18e3bf3"
      },
      "outputs": [
        {
          "name": "stdout",
          "output_type": "stream",
          "text": [
            "Digite um número inteiro: 5\n",
            "Digite um número real: 5.6\n",
            "Você informou os números 5 e 5.60\n"
          ]
        }
      ],
      "source": [
        "#7. Escreva um programa que solicite ao usuário um número inteiro e um número real e ao final\n",
        "#apresente na tela os dois números informados formatando com duas casas decimais\n",
        "#somente o número real da seguinte forma: \"Voce informou os numeros N e X.YY\"\n",
        "\n",
        "numero_inteiro = int(input(\"Digite um número inteiro: \"))\n",
        "numero_real = float(input(\"Digite um número real: \"))\n",
        "print(f\"Você informou os números {numero_inteiro} e {numero_real:.2f}\")"
      ]
    },
    {
      "cell_type": "code",
      "execution_count": null,
      "metadata": {
        "colab": {
          "base_uri": "https://localhost:8080/"
        },
        "id": "sYo0rMlQHnAb",
        "outputId": "4c5504c5-b3a1-48df-b5dd-b238b1b9c47d"
      },
      "outputs": [
        {
          "name": "stdout",
          "output_type": "stream",
          "text": [
            "Digite a primeira letra do seu nome: p\n",
            "Você digitou p\n"
          ]
        }
      ],
      "source": [
        "#8. Escreva um programa que solicite ao usuário a primeira letra de seu nome e ao final\n",
        "#apresente na tela a letra informada pelo usuário da seguinte forma: \"Voce digitou w\"#\n",
        "\n",
        "primeira_letra = input(\"Digite a primeira letra do seu nome: \")\n",
        "print(f\"Você digitou {primeira_letra}\")"
      ]
    },
    {
      "cell_type": "code",
      "execution_count": null,
      "metadata": {
        "colab": {
          "base_uri": "https://localhost:8080/"
        },
        "id": "eOEzLStmH4WK",
        "outputId": "934df406-f6e8-4d82-9ff6-338a283d91c0"
      },
      "outputs": [
        {
          "name": "stdout",
          "output_type": "stream",
          "text": [
            "Qual é a sua cor preferida? azul\n",
            "Você gosta da cor azul\n"
          ]
        }
      ],
      "source": [
        "#9. Escreva um programa que solicite ao usuário o nome de sua cor preferida e ao final\n",
        "#apresente na tela a cor informada pelo usuário da seguinte forma: \"Voce gosta da cor AAA\"\n",
        "\n",
        "\n",
        "cor_favorita = input(\"Qual é a sua cor preferida? \")\n",
        "print(f\"Você gosta da cor {cor_favorita}\")\n",
        "\n",
        "\n"
      ]
    },
    {
      "cell_type": "code",
      "execution_count": null,
      "metadata": {
        "colab": {
          "base_uri": "https://localhost:8080/"
        },
        "id": "kHNPLPC0IgTk",
        "outputId": "b0b3b092-0c18-4aa4-a8fe-741756cd4cd0"
      },
      "outputs": [
        {
          "name": "stdout",
          "output_type": "stream",
          "text": [
            "Digite o nome de uma verdura que você gosta: xuxu\n",
            "Digite o nome de uma fruta que você gosta: banana\n",
            "Você gosta de xuxu e banana\n"
          ]
        }
      ],
      "source": [
        "#10. Escreva um programa que solicite ao usuário o nome de uma verdura e uma fruta de sua\n",
        "#preferencia e ao final apresente na tela as informações digitadas pelo usuário da seguinte\n",
        "#forma: \"Voce gosta de AAAAAAA e BBBBBBB\"\n",
        "\n",
        "verdura = input(\"Digite o nome de uma verdura que você gosta: \")\n",
        "fruta = input(\"Digite o nome de uma fruta que você gosta: \")\n",
        "print(f\"Você gosta de {verdura} e {fruta}\")"
      ]
    },
    {
      "cell_type": "code",
      "execution_count": null,
      "metadata": {
        "colab": {
          "base_uri": "https://localhost:8080/"
        },
        "id": "MbYMs7puIusi",
        "outputId": "3087de9c-d80f-49fa-e4c0-f4ef5e22abb3"
      },
      "outputs": [
        {
          "name": "stdout",
          "output_type": "stream",
          "text": [
            "Digite um número real: 6.8\n",
            "Número -> 6.8\n",
            "Dobro deste número -> 13.6\n"
          ]
        }
      ],
      "source": [
        "#11. Elabore um algoritmo que solicite ao usuário um número real e ao final imprima na tela o\n",
        "#numero informado e na linha de baixo o dobro deste número da seguinte forma:\n",
        "#Numero -> X\n",
        "#Dobro deste numero -> Y\n",
        "\n",
        "numero = float(input(\"Digite um número real: \"))\n",
        "dobro = numero * 2\n",
        "print(f\"Número -> {numero}\")\n",
        "print(f\"Dobro deste número -> {dobro}\")\n",
        "\n"
      ]
    },
    {
      "cell_type": "code",
      "execution_count": null,
      "metadata": {
        "colab": {
          "base_uri": "https://localhost:8080/"
        },
        "id": "S2SaKQafI_BC",
        "outputId": "ac1b80c7-039c-4a19-8cb1-2f9c07adad4e"
      },
      "outputs": [
        {
          "name": "stdout",
          "output_type": "stream",
          "text": [
            "Digite um número: 4\n",
            "Número -> 4.0\n",
            "Quadrado deste número -> 16.0\n",
            "Cubo deste número -> 64.0\n"
          ]
        }
      ],
      "source": [
        "#12. Reescrever o programa anterior apresentando o quadrado e o cubo do número informado\n",
        "\n",
        "numero = float(input(\"Digite um número: \"))\n",
        "quadrado = numero ** 2  # ** 2 significa \"elevado a 2\"\n",
        "cubo = numero ** 3      # ** 3 significa \"elevado a 3\"\n",
        "print(f\"Número -> {numero}\")\n",
        "print(f\"Quadrado deste número -> {quadrado}\")\n",
        "print(f\"Cubo deste número -> {cubo}\")"
      ]
    },
    {
      "cell_type": "code",
      "execution_count": null,
      "metadata": {
        "colab": {
          "base_uri": "https://localhost:8080/"
        },
        "id": "lKbh8lqSJENK",
        "outputId": "3af04cf7-e499-4ac7-a5e0-2e5fd817c09f"
      },
      "outputs": [
        {
          "name": "stdout",
          "output_type": "stream",
          "text": [
            "Digite o primeiro número inteiro: 5\n",
            "Digite o segundo número inteiro: 7\n",
            "Os números 5 e 7 somados correspondem a 12\n"
          ]
        }
      ],
      "source": [
        "#13. Escreva um programa que solicite ao usuário dois números inteiros e ao final apresente\n",
        "#na tela a soma dos dois números informados da seguinte forma: \"O numeros N e X\n",
        "#somados correspondem a Y\"\n",
        "\n",
        "num1 = int(input(\"Digite o primeiro número inteiro: \"))\n",
        "num2 = int(input(\"Digite o segundo número inteiro: \"))\n",
        "soma = num1 + num2\n",
        "print(f\"Os números {num1} e {num2} somados correspondem a {soma}\")\n"
      ]
    },
    {
      "cell_type": "code",
      "execution_count": null,
      "metadata": {
        "colab": {
          "base_uri": "https://localhost:8080/"
        },
        "id": "akHKwAvQJM8s",
        "outputId": "9f951bc4-2621-4362-8812-6c812d3c2cf6"
      },
      "outputs": [
        {
          "name": "stdout",
          "output_type": "stream",
          "text": [
            "Digite o primeiro número real: 3.5\n",
            "Digite o segundo número real: 3.5\n",
            "O produto dos números 3.5 e 3.5 corresponde a 7.0\n"
          ]
        }
      ],
      "source": [
        "#14. Escreva um programa que solicite ao usuário dois números reais e ao final apresente na\n",
        "#tela o produto dos dois números informados da seguinte forma: \"O produto dos numeros N\n",
        "#e X corresponde a Y\"\n",
        "\n",
        "num1 = float(input(\"Digite o primeiro número real: \"))\n",
        "num2 = float(input(\"Digite o segundo número real: \"))\n",
        "produto = num1 + num2\n",
        "print(f\"O produto dos números {num1} e {num2} corresponde a {produto}\")"
      ]
    },
    {
      "cell_type": "code",
      "execution_count": null,
      "metadata": {
        "colab": {
          "base_uri": "https://localhost:8080/"
        },
        "id": "HPqMYgcBJQgb",
        "outputId": "3bc090c6-1793-471f-ae6f-7359e1fbc9e6"
      },
      "outputs": [
        {
          "name": "stdout",
          "output_type": "stream",
          "text": [
            "Digite o primeiro número real: 3\n",
            "Digite o segundo número real: 3\n",
            "Soma: 6.0\n",
            "Subtração: 0.0\n",
            "Multiplicação: 9.0\n",
            "Divisão: 1.0\n"
          ]
        }
      ],
      "source": [
        "#15. Refazer o programa 14 realizando as quatro operações aritméticas básicas\n",
        "\n",
        "num1 = float(input(\"Digite o primeiro número real: \"))\n",
        "num2 = float(input(\"Digite o segundo número real: \"))\n",
        "soma = num1 + num2\n",
        "subtracao = num1 - num2\n",
        "multiplicacao = num1 * num2\n",
        "divisao = num1 / num2\n",
        "print(f\"Soma: {soma}\")\n",
        "print(f\"Subtração: {subtracao}\")\n",
        "print(f\"Multiplicação: {multiplicacao}\")\n",
        "print(f\"Divisão: {divisao}\")\n"
      ]
    },
    {
      "cell_type": "code",
      "execution_count": null,
      "metadata": {
        "colab": {
          "base_uri": "https://localhost:8080/"
        },
        "id": "i5kCvLx0JRvs",
        "outputId": "c6df00fd-62f7-47d2-ca8c-8be393605e7d"
      },
      "outputs": [
        {
          "name": "stdout",
          "output_type": "stream",
          "text": [
            "Digite o valor do salário fixo: 800\n",
            "Digite o total de vendas no mês: 300\n",
            "Digite o percentual de comissão (ex: 5 para 5%): 2\n",
            "O salário bruto do vendedor é: R$ 806.00\n"
          ]
        }
      ],
      "source": [
        "#16. Escreva um programa que solicite o valor fixo do salário de um vendedor, o total vendido\n",
        "#no mês e o percentual de comissão do vendedor. Ao final apresentar o salário bruto.\n",
        "\n",
        "salario_fixo = float(input(\"Digite o valor do salário fixo: \"))\n",
        "total_vendido = float(input(\"Digite o total de vendas no mês: \"))\n",
        "percentual_comissao = float(input(\"Digite o percentual de comissão (ex: 5 para 5%): \"))\n",
        "comissao = total_vendido * (percentual_comissao / 100)\n",
        "salario_bruto = salario_fixo + comissao\n",
        "print(f\"O salário bruto do vendedor é: R$ {salario_bruto:.2f}\")\n"
      ]
    },
    {
      "cell_type": "markdown",
      "metadata": {
        "id": "90kpFs06QFcs"
      },
      "source": [
        "# LISTA DE EXERCICIO 02"
      ]
    },
    {
      "cell_type": "code",
      "execution_count": null,
      "metadata": {
        "id": "_oCLgnZpQKv6"
      },
      "outputs": [],
      "source": [
        "3#1. Elabore um programa que solicite ao usuário um número real e ao final imprima na tela se o\n",
        "#número informado é maior que 10 (dez)\n",
        "\n",
        "print(\"Informe um numero real:\")\n",
        "num = float(input())\n",
        "while num < 11:\n",
        "    print(\"numero invalido, tente novamente\")\n",
        "    num = float(input())\n",
        "print(\" \" + str(num) + \" E maior que 10\")\n"
      ]
    },
    {
      "cell_type": "code",
      "execution_count": null,
      "metadata": {
        "id": "jwKv1vlAUn1F"
      },
      "outputs": [],
      "source": [
        "#2. Escreva um programa que solicite ao usuário um número real e ao final imprima na tela se\n",
        "#o número informado é maior ou igual a dez ou menor que 10 (dez)\n",
        "\n",
        "\n",
        "print(\"Digite um numero real\")\n",
        "num = float(input())\n",
        "while num <= 9:\n",
        "    print(\" Numero Invalido\")\n",
        "    num = float(input())\n",
        "while num == 10:\n",
        "    print(\"\" + str(num) + \" o numero e igual a 10\")\n",
        "    num = float(input())\n",
        "print(\"\" + str(num) + \" o numero e maior que 10\")\n"
      ]
    },
    {
      "cell_type": "code",
      "execution_count": null,
      "metadata": {
        "id": "xWRpfyFNXaot"
      },
      "outputs": [],
      "source": [
        "\n",
        "#3. Elabore um algoritmo que solicite ao usuário um número real e ao final imprima na tela se o\n",
        "#número informado é maior que dez, se é menor que dez, ou se é igual a dez\n",
        "\n",
        "\n",
        "print(\"Digite um numero real\")\n",
        "num = float(input())\n",
        "while num <= 9:\n",
        "    print(\"\" + str(num) + \" e menor que 10\")\n",
        "    num = float(input())\n",
        "while num == 10:\n",
        "    print(\"\" + str(num) + \" o numero e igual a 10\")\n",
        "    num = float(input())\n",
        "print(\"\" + str(num) + \" o numero e maior que 10\")\n"
      ]
    },
    {
      "cell_type": "code",
      "execution_count": null,
      "metadata": {
        "colab": {
          "background_save": true
        },
        "id": "Bz6fxO4kh08j"
      },
      "outputs": [],
      "source": [
        "#4. Elabore um algoritmo que solicite ao usuário um número real e ao final imprima na tela se o\n",
        "#número informado é positivo, negativo ou nulo (zero)\n",
        "\n",
        "print(\"Digite um numero real\")\n",
        "num = float(input())\n",
        "while num > 0:\n",
        "    print(\"\" + str(num) + \" E POSITIVO\")\n",
        "    num = float(input())\n",
        "while num < 0:\n",
        "    print(\"\" + str(num) + \" E NEGATIVO\")\n",
        "    num = float(input())\n",
        "print(\"\" + str(num) + \" E NULO\")\n"
      ]
    },
    {
      "cell_type": "code",
      "execution_count": null,
      "metadata": {
        "id": "bdmwCp7KPGEh"
      },
      "outputs": [],
      "source": [
        "#5. Elabore um algoritmo que leia um número inteiro e imprima uma das mensagens: é múltiplo\n",
        "#de 3, ou, não é múltiplo de 3\n",
        "\n",
        "\n",
        "print(\"Digite um numero inteiro\")\n",
        "num = int(input())\n",
        "resto = num % 3\n",
        "while resto == 0:\n",
        "    print(\"e multiplo de 3 \")\n",
        "    num = int(input())\n",
        "    resto = num % 3\n",
        "print(\" nao e multiplo de 3 \")\n"
      ]
    },
    {
      "cell_type": "code",
      "execution_count": null,
      "metadata": {
        "id": "bu273xqXPLv7"
      },
      "outputs": [],
      "source": [
        "#6. Refazer o exercício anterior, solicitando antes o múltiplo a ser testado\n",
        "\n",
        "print(\"Informe seu multiplo\")\n",
        "mult = int(input())\n",
        "print(\"Digite um numero\")\n",
        "num = int(input())\n",
        "resto = num % mult\n",
        "while resto == 0:\n",
        "    print(\"e multiplo de \" + str(mult))\n",
        "    num = int(input())\n",
        "    resto = num % mult\n",
        "print(\" nao e multiplo de \" + str(mult))\n"
      ]
    },
    {
      "cell_type": "code",
      "execution_count": null,
      "metadata": {
        "id": "0tqvLz14PNH5"
      },
      "outputs": [],
      "source": [
        "#7. Desenvolva um algoritmo que classifique um número inteiro fornecido pelo usuário como\n",
        "#par ou ímpar\n",
        "\n",
        "print(\"Informe um numero\")\n",
        "num = int(input())\n",
        "resto = num % 2\n",
        "while resto == 0:\n",
        "    print(\"este numero e par\")\n",
        "    num = int(input())\n",
        "    resto = num % 2\n",
        "print(\"este numero e impar\")\n"
      ]
    },
    {
      "cell_type": "code",
      "execution_count": null,
      "metadata": {
        "id": "hDxL2nJ7POQa"
      },
      "outputs": [],
      "source": [
        "#8. Elabore um algoritmo que leia um número, e se ele for maior do que 20, imprimir a metade\n",
        "#desse número, caso contrário, imprimir o dobro do número\n",
        "\n",
        "resto = 20\n",
        "print(\"Informe um numero\")\n",
        "num = float(input())\n",
        "while num > resto:\n",
        "    num = num / 2\n",
        "    print(num)\n",
        "    num = float(input())\n",
        "num = num * 2\n",
        "print(num)\n"
      ]
    },
    {
      "cell_type": "code",
      "execution_count": null,
      "metadata": {
        "id": "5jlIfGZqQMFp"
      },
      "outputs": [],
      "source": [
        "#9. Elabore um algoritmo que leia dois números inteiros e realize a adição; caso o resultado\n",
        "#seja maior que 10, imprima o quadrado do resultado, caso contrário, imprima a metade dele\n",
        "\n",
        "print(\"Informe o primeiro numero\")\n",
        "num1 = int(input())\n",
        "print(\"Informe o segundo numero\")\n",
        "num2 = int(input())\n",
        "resultado = num1 + num2\n",
        "print(resultado)\n",
        "if resultado > 10:\n",
        "    quadrado = resultado * resultado\n",
        "    print(quadrado)\n",
        "else:\n",
        "    resultado = float(resultado) / 2\n",
        "    print(resultado)\n"
      ]
    },
    {
      "cell_type": "code",
      "execution_count": null,
      "metadata": {
        "id": "u93ABc8Se31A"
      },
      "outputs": [],
      "source": [
        "#10. O sistema de avaliação de determinada disciplina é composto por três provas. A primeira\n",
        "#prova tem peso 2, a segunda tem peso 3 e a terceira tem peso 5. Considerando que a\n",
        "#média para aprovação é 6.0, faça um algoritmo para calcular a média final de um aluno\n",
        "#desta disciplina e dizer se o aluno foi aprovado ou não\n",
        "\n",
        "print(\"Informe a primeira nota\")\n",
        "p1 = float(input())\n",
        "p1 = p1 * 2\n",
        "print(\"Informe a segunda nota\")\n",
        "p2 = float(input())\n",
        "p2 = p2 * 3\n",
        "print(\"Informe a terceira nota\")\n",
        "p3 = float(input())\n",
        "p3 = p3 * 5\n",
        "media = (p1 + p2 + p3) / (2 + 3 + 5)\n",
        "if media > 6:\n",
        "    print(\"aprovado\")\n",
        "else:\n",
        "    print(\"reprovado\")\n"
      ]
    },
    {
      "cell_type": "code",
      "execution_count": null,
      "metadata": {
        "id": "aMXwdMj2QQS4"
      },
      "outputs": [],
      "source": [
        "#11. Elabore um algoritmo que leia o nome e o peso de duas pessoas e imprima o nome da\n",
        "#pessoa mais pesada\n",
        "\n",
        "print(\"Informe o nome da pessoa 1\")\n",
        "nom1 = input()\n",
        "print(\"Informe o peso da pessoa 1\")\n",
        "p1 = int(input())\n",
        "print(\"Informe o nome da pessoa 2\")\n",
        "nom2 = input()\n",
        "print(\"Informe o peso da pessoa 2\")\n",
        "p2 = int(input())\n",
        "if p1 > p2:\n",
        "    print(\"\" + nom1 + \" e mais pesado\")\n",
        "else:\n",
        "    print(\"\" + nom2 + \" e mais pesado\")\n",
        "\n"
      ]
    },
    {
      "cell_type": "code",
      "execution_count": null,
      "metadata": {
        "id": "C71ptvvrQQY1"
      },
      "outputs": [],
      "source": [
        "#12. Elabore um algoritmo que indique se um número digitado está compreendido entre 20 e\n",
        "#90, ou não\n",
        "\n",
        "\n",
        "num1 = int(input(\"Informe um numero:\"))\n",
        "\n",
        "if num1 >20 and num1 <90:\n",
        "    print (\"este numero esta entre 20 é 90\")\n",
        "\n",
        "else:\n",
        "    print (\"este numero não esta entre 20 é 90\")\n",
        "\n"
      ]
    },
    {
      "cell_type": "code",
      "execution_count": null,
      "metadata": {
        "id": "dpIBZ4kvQWHW"
      },
      "outputs": [],
      "source": [
        "#13. Elabore um algoritmo que leia dois números e imprima qual é maior, qual é menor, ou se\n",
        "#são iguais\n",
        "\n",
        "num1 = int(input(\"Digite o primeiro numero: \"))\n",
        "num2 = int(input(\"Digite o segundo numero: \"))\n",
        "\n",
        "\n",
        "while True:\n",
        "    num1 > num2\n",
        "    num2 < num1\n",
        "    if num1 >num2:\n",
        "        print (num1 ,'e o maior')\n",
        "    elif num1 < num2:\n",
        "        print (num2 ,'e o maior')\n",
        "    if num2 < num1 :\n",
        "        print (num2 ,'e o menor')\n",
        "        print ('Não são iguais')\n",
        "    elif num2 > num1:\n",
        "        print (num1 ,'e o menor')\n",
        "        print ('Não são iguais')\n",
        "    else:\n",
        "        print ('Ambos são iguais')\n",
        "    break"
      ]
    },
    {
      "cell_type": "code",
      "execution_count": null,
      "metadata": {
        "id": "lqoHRIaji9HO"
      },
      "outputs": [],
      "source": [
        "# 14. Escreva um programa em linguagem C que solicite ao usuário a média para aprovação\n",
        "# em um curso e em seguida solicite ao usuário o nome, sexo e as 03 notas do aluno e ao\n",
        "# final imprima a frase: \"O aluno XXXXX foi aprovado com media YY\" considerando o gênero\n",
        "# do(a) aluno(a) e se foi aprovado(a) ou reprovado(a)\n",
        "\n",
        "\n",
        "\n",
        "############## POR ESTA EM C ELE SO RODA NO GDB COMPILIER ################\n",
        "\n",
        "\n",
        "#include <stdio.h>\n",
        "#include <string.h>\n",
        "\n",
        "int main() {\n",
        "    // Variáveis para armazenar nome, gênero e notas\n",
        "    char nome[50];\n",
        "    char genero[10];\n",
        "    int a1, a2, a3;\n",
        "    float media;\n",
        "\n",
        "    // Solicita o nome do(a) aluno(a)\n",
        "    printf(\"Informe seu nome: \");\n",
        "    scanf(\"%s\", nome);\n",
        "\n",
        "    // Solicita o gênero\n",
        "    printf(\"\\nMasculino\\nFeminino\\nInforme uma opcao acima: \");\n",
        "    scanf(\"%s\", genero);\n",
        "\n",
        "    // Solicita as notas\n",
        "    printf(\"Informe a nota da A1: \");\n",
        "    scanf(\"%d\", &a1);\n",
        "\n",
        "    printf(\"Informe a nota da A2: \");\n",
        "    scanf(\"%d\", &a2);\n",
        "\n",
        "    printf(\"Informe a nota da A3: \");\n",
        "    scanf(\"%d\", &a3);\n",
        "\n",
        "    // Calcula a média\n",
        "    media = (float)(a1 + a2 + a3) / 3;\n",
        "\n",
        "    // Verifica se o(a) aluno(a) foi aprovado(a) ou reprovado(a)\n",
        "    char status[20];\n",
        "    if (media > 6) {\n",
        "        strcpy(status, \"aprovado(a)\");\n",
        "    } else {\n",
        "        strcpy(status, \"reprovado(a)\");\n",
        "    }\n",
        "\n",
        "    // Imprime o resultado final\n",
        "    printf(\"O(a) aluno(a) %s, do genero %s, foi %s com a media de %.2f\\n\", nome, genero, status, media);\n",
        "\n",
        "    return 0;\n",
        "}"
      ]
    },
    {
      "cell_type": "markdown",
      "metadata": {
        "id": "xzmXKNemM2kR"
      },
      "source": [
        "#\n",
        "LISTA DE EXERCICIO 3"
      ]
    },
    {
      "cell_type": "code",
      "execution_count": null,
      "metadata": {
        "id": "IyQpCDQZRrfo"
      },
      "outputs": [],
      "source": [
        "#1. Elabore um algoritmo que imprima na tela lado a lado o texto \"Hello World!\" 10 vezes.\n",
        "\n",
        "print(\"Hello Word!, \"*10)\n"
      ]
    },
    {
      "cell_type": "code",
      "execution_count": null,
      "metadata": {
        "id": "_FU96BtyZZ13"
      },
      "outputs": [],
      "source": [
        "#2. Elabore um algoritmo que imprima na tela o texto \"Hello World!\" 10 vezes, um por linha.\n",
        "print(\"Hello Word! \\n\"*10)"
      ]
    },
    {
      "cell_type": "code",
      "execution_count": null,
      "metadata": {
        "id": "rXewSWUpZbC3"
      },
      "outputs": [],
      "source": [
        "#3. Elabore um algoritmo que imprima todos os números inteiros de 1 até 100 inclusive.\n",
        "\n",
        "for n in range(1,100+1):\n",
        "    print(n)\n"
      ]
    },
    {
      "cell_type": "code",
      "execution_count": null,
      "metadata": {
        "id": "gp3pvhXPZcRt"
      },
      "outputs": [],
      "source": [
        "#4. Elabore um algoritmo que imprima 100 vezes o texto \"1- Hello World!\" com o número.\n",
        "\n",
        "for n in range(1,100+1):\n",
        "    print(n,\"- Hello Word!\")"
      ]
    },
    {
      "cell_type": "code",
      "execution_count": null,
      "metadata": {
        "id": "xEp_WyOnZdeX"
      },
      "outputs": [],
      "source": [
        "#5. Elabore um algoritmo que imprima todos os números decrescentes de 100 até 0 inclusive.\n",
        "\n",
        "for n in range(100,-1,-1):\n",
        "    print(n)\n"
      ]
    },
    {
      "cell_type": "code",
      "execution_count": null,
      "metadata": {
        "id": "G6_aAvGCZeoP"
      },
      "outputs": [],
      "source": [
        "#6. Elabore um algoritmo que imprima todos os números pares inteiros de 1 até 1000.\n",
        "\n",
        "for n in range(2,1000+2,2):\n",
        "    print(n)"
      ]
    },
    {
      "cell_type": "code",
      "execution_count": null,
      "metadata": {
        "id": "CV84x59bZfzP"
      },
      "outputs": [],
      "source": [
        "#7. Elabore um algoritmo que imprima todos os números ímpares de 1000 até 0.\n",
        "\n",
        "for n in range(1000-1,0,-2):\n",
        "    print(n)"
      ]
    },
    {
      "cell_type": "code",
      "execution_count": null,
      "metadata": {
        "id": "-tWOblHuZhBB"
      },
      "outputs": [],
      "source": [
        "#8. Elabore um algoritmo que imprima a soma dos 100 primeiros números inteiros positivos.\n",
        "\n",
        "soma = 0\n",
        "for n in range(1,101,1):\n",
        "    soma = soma + n\n",
        "    print (\"numero\", n, \"tem a soma de: \", soma)\n"
      ]
    },
    {
      "cell_type": "code",
      "execution_count": null,
      "metadata": {
        "id": "fd_nuLITZiMf"
      },
      "outputs": [],
      "source": [
        "#9. Elabore um algoritmo que solicite ao usuário um número inteiro que indicará a quantidade\n",
        "#de vezes que o texto \"Hello World!\" será impresso na tela, um em cada linha.\n",
        "\n",
        "num = int(input(\"Informe um Numero: \"))\n",
        "for n in range(1,num +1,1):\n",
        "    print (\"Hello Word!\")"
      ]
    },
    {
      "cell_type": "code",
      "execution_count": null,
      "metadata": {
        "id": "62efxMUjZo_g"
      },
      "outputs": [],
      "source": [
        "#10. Elabore um algoritmo que solicite ao usuário uma palavra e um número inteiro que\n",
        "#indicará a quantidade de vezes que a palavra digitada será impressa na tela, um em cada\n",
        "#linha.\n",
        "\n",
        "nome = str(input(\"Informe uma palavra:\"))\n",
        "num = int(input(\"Informe um Numero: \"))\n",
        "for n in range(1,num +1,1):\n",
        "    print (nome)"
      ]
    },
    {
      "cell_type": "code",
      "execution_count": null,
      "metadata": {
        "id": "UFxx42Y9ZrVw"
      },
      "outputs": [],
      "source": [
        "#11. Elabore um algoritmo que leia um número de entrada que indicará a quantidade de\n",
        "#números a serem lidos. Em seguida, leia n números (conforme o valor informado\n",
        "#anteriormente) e imprima a soma e a média aritmética dos números informados.\n",
        "\n",
        "\n",
        "# 1. esse codigo solicita ao usuario, que informe um numero positivo\n",
        "\n",
        "while True > 0:\n",
        "        qnt = int(input('Informe a quantidade de numero desejada: '))\n",
        "        if qnt > 0:\n",
        "            break\n",
        "        else:\n",
        "            print ('O número não e positivo, tente novamente!')\n",
        "\n",
        "\n",
        "# 2. esse codigo permite que o usuario crie um looping de acordo com a quantidade acima\n",
        "# e em seguida realiza a soma dos algoritimos digitados\n",
        "\n",
        "\n",
        "soma = 0\n",
        "\n",
        "for i in range (qnt):\n",
        "    num = int(input(f'Informe o {i +1}º numero da soma :'))\n",
        "    soma = soma + num\n",
        "\n",
        "\n",
        "\n",
        "#3. esse codigo permite pegar o resultado acima e fazer a media aritmetica\n",
        "\n",
        "media = soma /qnt\n",
        "\n",
        "print(f'O valor da soma e de: {soma}')\n",
        "print (f'A média aritmética e de: {media}')"
      ]
    },
    {
      "cell_type": "code",
      "execution_count": null,
      "metadata": {
        "id": "unkRO5NBZs8g"
      },
      "outputs": [],
      "source": [
        "#12. Elabore um algoritmo que leia um número de entrada que indicará a quantidade de\n",
        "#registros a serem lidos (N). Em seguida algoritmo deve solicitar o nome e idade de N\n",
        "#pessoas e ao final apresentar o nome da pessoa mais velha.\n",
        "\n",
        "\n",
        "#1. aqui informamos a quantidade de registros\n",
        "\n",
        "while True:\n",
        "    ent = int(input('Informe a quantidade de entradas: '))\n",
        "    if ent > 0:\n",
        "        break\n",
        "    else:\n",
        "        print(' Informe um número maior que 0')\n",
        "\n",
        "\n",
        "#1.1 DECLARO AS VARIAVEIS PARA SABER QUEM E O MAIS VELHO\n",
        "# idade e -1 pq numero informados maior q ele vai substituilo\n",
        "# mais velho nao tem nada escrito pq ele vai ser substituido pelo nome correto\n",
        "\n",
        "maior_idade = -1\n",
        "mais_velho = ''\n",
        "\n",
        "#2. Fiz um laço para informar os nomes e idades das pessoas\n",
        "\n",
        "print('='*35)\n",
        "for pessoas in range (ent):\n",
        "    print(f'Informe os dados da pessoa, {pessoas+1} de {ent}')\n",
        "    nome= str(input(f'Nome da {pessoas + 1}ª pessoa:'))\n",
        "\n",
        "    while True:\n",
        "\n",
        "        idade = int(input(f'Informe a idade: '))\n",
        "        idade > 0\n",
        "        break\n",
        "\n",
        "#2.1 aqui fiz essa condição para registrar o mais velho\n",
        "\n",
        "    if idade > maior_idade:\n",
        "        maior_idade = idade\n",
        "        mais_velho = nome\n",
        "\n",
        "\n",
        "#3. aqui saira o resultado da pessoa mais velha com\n",
        "#nome e idade\n",
        "\n",
        "print(\"===============RESULTADO===============\")\n",
        "print('')\n",
        "print(f' {mais_velho} e o(a) mais velho(a) com {maior_idade} anos! ')\n"
      ]
    },
    {
      "cell_type": "code",
      "execution_count": null,
      "metadata": {
        "colab": {
          "background_save": true
        },
        "id": "xFawm0b7Zuth"
      },
      "outputs": [],
      "source": [
        "#13. Elabore um algoritmo que leia um número de entrada que indicará a quantidade de\n",
        "#registros a serem lidos (N). Em seguida algoritmo deve solicitar o sexo (M/F) e idade de N\n",
        "#pessoas e ao final apresentar a média de idade de ambos os gêneros catalogados.\n",
        "\n",
        "#1. solicita ao usuario informar a quantidade de pessoas que ele quer\n",
        "while True:\n",
        "    num = int(input('Informe a quantidade de pessoas desejadas: '))\n",
        "    if num > 0:\n",
        "        break\n",
        "    else:\n",
        "        print('Número informado está invalido!')\n",
        "\n",
        "print('')\n",
        "\n",
        "#1.1 declaro as variaveis que vai somar e contar as informações abaixo\n",
        "soma_m = 0\n",
        "soma_f = 0\n",
        "cont_m = 0\n",
        "cont_f = 0\n",
        "\n",
        "\n",
        "#2. solicita que usuario informe o sexo e a idade\n",
        "\n",
        "for pessoa in range(num):\n",
        "\n",
        "    while True:\n",
        "        sexo = str(input(f'Informe o gênero usando M/F da {pessoa + 1}ª pessoa: '))\n",
        "        if sexo in ('M', 'F'):\n",
        "            break\n",
        "        else:\n",
        "            print('Erro, informe apenas M para masculino ou F para feminino ')\n",
        "\n",
        "\n",
        "    while True:\n",
        "            idade = int(input(f'Informe a idade da {pessoa + 1}ª pessoa: '))\n",
        "            if idade < 150:\n",
        "                break\n",
        "            else:\n",
        "                print('Informe uma idade valida!')\n",
        "\n",
        "# condição para armazenar as somas das informações acima\n",
        "\n",
        "    if sexo == 'M':\n",
        "        soma_m += idade\n",
        "        cont_m += 1\n",
        "    elif sexo == 'F':\n",
        "        soma_f += idade\n",
        "        cont_f +=1\n",
        "\n",
        "media_m = soma_m/ cont_m\n",
        "media_f = soma_f/ cont_f\n",
        "\n",
        "print(f'Em um total de {num} pessoas solicitadas...')\n",
        "\n",
        "print('')\n",
        "print(f'A media para o gênero Masculino foi de {media_m} para o total de {cont_m} pessoas catalogadas!')\n",
        "print('')\n",
        "print(f'A media para o gênero Feminino foi de {media_f} para o total de {cont_f} pessoas catalogadas!')\n"
      ]
    },
    {
      "cell_type": "code",
      "execution_count": null,
      "metadata": {
        "id": "pkZSA_FVZv9n"
      },
      "outputs": [],
      "source": [
        "#14. Elabore um algoritmo que solicite ao usuário 10 números reais e ao final apresente o\n",
        "#maior e o menor deles.\n",
        "\n",
        "print('Informe  a quantidade de 10 números reais')\n",
        "print('')\n",
        "\n",
        "\n",
        "#1. Declarei as variaveis e o range para 10 numeros\n",
        "max = 10\n",
        "maior_num = None\n",
        "menor_num = None\n",
        "\n",
        "#2. fiz um laço para informar os 10 valores solicitados\n",
        "\n",
        "for i in range(max):\n",
        "    print(f'Números informados {i+1} de {max}')\n",
        "    while True:\n",
        "        num = float(input(f'Informe o {i + 1}º número: '))\n",
        "        break\n",
        "\n",
        "\n",
        "#2.1 condição para dizer quem e o maior e quem e o menor numero\n",
        "\n",
        "    if maior_num is None or menor_num is None:\n",
        "        maior_num = num\n",
        "        menor_num = num\n",
        "    else:\n",
        "        if num > maior_num:\n",
        "            maior_num = num\n",
        "\n",
        "        if num < menor_num:\n",
        "            menor_num = num\n",
        "\n",
        "\n",
        "#3. painel de visualização do usuario com as informações\n",
        "\n",
        "print(\"\\n--- Resultados ---\")\n",
        "print(f\"O maior número digitado foi: {maior_num}\")\n",
        "print(f\"O menor número digitado foi: {menor_num}\")\n"
      ]
    },
    {
      "cell_type": "code",
      "execution_count": null,
      "metadata": {
        "id": "2nojOqseZxEo"
      },
      "outputs": [],
      "source": [
        "#15. Elabore um algoritmo que solicite N números reais e quando o usuário informar o valor\n",
        "#nulo 0 (zero) o programa ordene e mostre todos os números informados de forma crescente.\n",
        "\n",
        "save_num = []\n",
        "print('Informe quantos numeros quiser, para encerra digite o numero \\'O\\' ')\n",
        "print('='*60)\n",
        "while True :\n",
        "    num = int(input('Informe um número: '))\n",
        "    num_real = float (num)\n",
        "    if num_real == 0:\n",
        "        break\n",
        "\n",
        "    save_num.append(num_real)\n",
        "\n",
        "if not save_num:\n",
        "    print (' Nenhum numero foi inserido para ordenar')\n",
        "else:\n",
        "    save_num.sort()\n",
        "\n",
        "\n",
        "print('='*60)\n",
        "print (' Aqui esta a lista com os número em ordem crescente')\n",
        "print('')\n",
        "for fim in save_num:\n",
        "    print(f'Os numeros informados foram {fim:.0f}')\n"
      ]
    },
    {
      "cell_type": "code",
      "execution_count": null,
      "metadata": {
        "id": "Em8eXxsTZ7Ah"
      },
      "outputs": [],
      "source": [
        "#16. Escreva um programa que vá solicitando as idades dos alunos da sala até que todos\n",
        "#sejam informados (perguntar ao usuário se deseja informar a idade do próximo aluno). Ao\n",
        "#final apresentar a idade do mais novo, a idade do mais velho, Quantos alunos têm mais de\n",
        "#18 anos, quantos alunos têm até 18 anos, a média aritmética e a mediana.\n",
        "\n",
        "# Lista para armazenar as idades\n",
        "idades = []\n",
        "\n",
        "# --- 1. Coleta das Idades (Usando 'while') ---\n",
        "# O loop 'while True' vai rodar indefinidamente até o 'break'\n",
        "while True:\n",
        "\n",
        "    entrada = input(\"Informe a idade do aluno: \")\n",
        "\n",
        "    # Condição de parada, e garantir que a idade é um número positivo\n",
        "    if entrada.lower() == 'parar':\n",
        "        break\n",
        "\n",
        "    try:\n",
        "        idade = int(entrada)\n",
        "        print(\"Digite 'parar' quando terminar.\")\n",
        "        if idade > 0 and idade <= 120:\n",
        "            idades.append(idade)\n",
        "        else:\n",
        "            print(\"Entrada Indevida. Por favor, insira uma idade valida até 120 anos.\")\n",
        "    except ValueError:\n",
        "        print(\"Entrada inválida. Por favor, insira um número ou 'parar'.\")\n",
        "\n",
        "# Variável para contar o número total de alunos\n",
        "total_alunos = 0\n",
        "\n",
        "# Usei o 'for' para contar o total (substitui len(idades))\n",
        "for idade in idades:\n",
        "    total_alunos += 1\n",
        "\n",
        "# Se a lista estiver vazia, encerra apos digitar 'parar'\n",
        "if total_alunos == 0:\n",
        "    print(\"\\nNenhuma idade foi informada. Encerrando o programa.\")\n",
        "\n",
        "    # Usando a função 'exit()' para parar o sistema sem a necessidade de uma função\n",
        "    exit()\n",
        "\n",
        "\n",
        "# Mais Novo e Mais Velho (Substituindo min/max)\n",
        "idade_mais_novo = idades[0]  # Assume que o primeiro é o menor\n",
        "idade_mais_velho = idades[0] # Assume que o primeiro é o maior\n",
        "\n",
        "# Loop 'for' para encontrar o menor e o maior\n",
        "for idade in idades:\n",
        "    if idade < idade_mais_novo:\n",
        "        idade_mais_novo = idade\n",
        "    if idade > idade_mais_velho:\n",
        "        idade_mais_velho = idade\n",
        "\n",
        "#Contagem de Alunos (>18 e <=18)\n",
        "cont_maiores_18 = 0\n",
        "cont_menores_ou_igual_18 = 0\n",
        "\n",
        "# Loop 'for' para contagem\n",
        "for idade in idades:\n",
        "    if idade > 18:\n",
        "        cont_maiores_18 += 1\n",
        "    else:\n",
        "        cont_menores_ou_igual_18 += 1\n",
        "\n",
        "# Média Aritmética\n",
        "soma_idades = 0\n",
        "\n",
        "# Loop 'for' para somar todas as idades\n",
        "for idade in idades:\n",
        "    soma_idades += idade\n",
        "\n",
        "\n",
        "# Mediana (Substituindo sorted())\n",
        "media_aritmetica = soma_idades / total_alunos\n",
        "\n",
        "# Implementação manual do Bubble Sort (o método de ordenação mais simples)\n",
        "n = total_alunos\n",
        "\n",
        "# Uma cópia da lista para ordenação (para não alterar a original)\n",
        "idades_ordenadas = idades[:]\n",
        "\n",
        "# Dois loops 'for' aninhados para ordenar a lista\n",
        "for i in range(n):\n",
        "    for j in range(0, n-i-1):\n",
        "        if idades_ordenadas[j] > idades_ordenadas[j+1]:\n",
        "            # Troca de posição\n",
        "            temp = idades_ordenadas[j]\n",
        "            idades_ordenadas[j] = idades_ordenadas[j+1]\n",
        "            idades_ordenadas[j+1] = temp\n",
        "\n",
        "# Cálculo da Mediana\n",
        "if n % 2 == 1:\n",
        "    # Ímpar: Mediana é o elemento do meio (o índice é n // 2)\n",
        "    mediana = idades_ordenadas[n // 2]\n",
        "else:\n",
        "    # Par: Mediana é a média dos dois elementos do meio\n",
        "    # Os índices são n // 2 - 1 e n // 2\n",
        "    meio_1 = idades_ordenadas[n // 2 - 1]\n",
        "    meio_2 = idades_ordenadas[n // 2]\n",
        "    mediana = (meio_1 + meio_2) / 2\n",
        "\n",
        "# --- 3. Apresentação dos Resultados ---\n",
        "\n",
        "print(\"\\n\" + \"=\"*40)\n",
        "print(\"           RESULTADOS FINAIS\")\n",
        "print(\"=\"*40)\n",
        "print(f\"Total de alunos informados: {total_alunos}\")\n",
        "print(\"-\" * 40)\n",
        "\n",
        "print(f\"Idade do Mais Novo: {idade_mais_novo} anos\")\n",
        "print(f\"Idade do Mais Velho: {idade_mais_velho} anos\")\n",
        "\n",
        "print(\"-\" * 40)\n",
        "\n",
        "print(f\"Alunos com mais de 18 anos: {cont_maiores_18}\")\n",
        "print(f\"Alunos com até 18 anos: {cont_menores_ou_igual_18}\")\n",
        "\n",
        "print(\"-\" * 40)\n",
        "\n",
        "print(f\"A média aritmética das idades: {media_aritmetica:.2f} anos\")\n",
        "print(f\"A mediana das idades: {mediana:.2f} anos\")\n",
        "print(\"=\"*40)"
      ]
    }
  ],
  "metadata": {
    "colab": {
      "provenance": [],
      "include_colab_link": true
    },
    "kernelspec": {
      "display_name": "Python 3",
      "name": "python3"
    },
    "language_info": {
      "name": "python"
    }
  },
  "nbformat": 4,
  "nbformat_minor": 0
}